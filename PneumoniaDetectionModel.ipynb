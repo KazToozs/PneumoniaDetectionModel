{
  "nbformat": 4,
  "nbformat_minor": 0,
  "metadata": {
    "colab": {
      "name": "PneumoniaDetectionModel",
      "version": "0.3.2",
      "provenance": [],
      "collapsed_sections": [],
      "machine_shape": "hm"
    },
    "kernelspec": {
      "name": "python3",
      "display_name": "Python 3"
    }
  },
  "cells": [
    {
      "cell_type": "code",
      "metadata": {
        "id": "_W1HLywWYy75",
        "colab_type": "code",
        "colab": {
          "base_uri": "https://localhost:8080/",
          "height": 34
        },
        "outputId": "9b6a6e67-f00c-4c7e-aa98-8ac1c3f6acfe"
      },
      "source": [
        "from keras.applications import InceptionV3\n",
        "import tensorflow as tf\n",
        "from keras.preprocessing.image import ImageDataGenerator\n",
        "from keras.preprocessing import image\n",
        "import numpy as np\n",
        "from pathlib import Path\n",
        "import os\n",
        "from tensorflow.keras import layers\n",
        "from tensorflow.keras import Model\n",
        "from tensorflow.keras.optimizers import RMSprop\n",
        "AUTO = tf.data.experimental.AUTOTUNE"
      ],
      "execution_count": 1,
      "outputs": [
        {
          "output_type": "stream",
          "text": [
            "Using TensorFlow backend.\n"
          ],
          "name": "stderr"
        }
      ]
    },
    {
      "cell_type": "code",
      "metadata": {
        "id": "ptHCl6gQ1fV2",
        "colab_type": "code",
        "colab": {
          "base_uri": "https://localhost:8080/",
          "height": 34
        },
        "outputId": "c8c69c17-59fd-430e-ffe7-b4d99b780395"
      },
      "source": [
        "import zipfile\n",
        "from google.colab import drive\n",
        "drive.mount('/gdrive')\n",
        "\n",
        "zip_ref = zipfile.ZipFile(\"/gdrive/My Drive/chest_xray.zip\", 'r')\n",
        "zip_ref.extractall(\"/tmp\")\n",
        "zip_ref.close()"
      ],
      "execution_count": 2,
      "outputs": [
        {
          "output_type": "stream",
          "text": [
            "Drive already mounted at /gdrive; to attempt to forcibly remount, call drive.mount(\"/gdrive\", force_remount=True).\n"
          ],
          "name": "stdout"
        }
      ]
    },
    {
      "cell_type": "code",
      "metadata": {
        "id": "D4HCRhwR2uhz",
        "colab_type": "code",
        "colab": {}
      },
      "source": [
        "input_directory = r\"/tmp/\"\n",
        "\n",
        "\n",
        "training_dir = input_directory + r\"chest_xray/train\"\n",
        "validation_dir = input_directory + r\"chest_xray/val\"\n",
        "testing_dir = input_directory + r\"chest_xray/test\"\n",
        "\n",
        "IMAGE_SIZE = [299,299]"
      ],
      "execution_count": 0,
      "outputs": []
    },
    {
      "cell_type": "code",
      "metadata": {
        "id": "58rNf3ck8IFt",
        "colab_type": "code",
        "colab": {
          "base_uri": "https://localhost:8080/",
          "height": 68
        },
        "outputId": "14319024-f132-47ac-f2cc-fb081894bae2"
      },
      "source": [
        "rescale = 1./255.0\n",
        "target_size = (150, 150)\n",
        "batch_size = 32\n",
        "class_mode = 'categorical'\n",
        "\n",
        "train_datagen = ImageDataGenerator(\n",
        "    width_shift_range=0.1,\n",
        "    height_shift_range=0.1,\n",
        "    shear_range=0.2,\n",
        "    zoom_range=0.2,\n",
        "    horizontal_flip=True,\n",
        "    rescale=rescale\n",
        ")\n",
        "train_generator = train_datagen.flow_from_directory(\n",
        "    training_dir,\n",
        "    target_size=target_size,\n",
        "    class_mode=class_mode,\n",
        "    batch_size=20\n",
        ")\n",
        "\n",
        "validation_datagen = ImageDataGenerator(rescale=rescale)\n",
        "validation_generator = validation_datagen.flow_from_directory(\n",
        "    validation_dir,\n",
        "    target_size=target_size,\n",
        "    class_mode=class_mode,\n",
        "    batch_size=batch_size\n",
        ")\n",
        "\n",
        "test_datagen = ImageDataGenerator(rescale=rescale)\n",
        "test_generator = test_datagen.flow_from_directory(\n",
        "    testing_dir,\n",
        "    target_size=target_size,\n",
        "    class_mode=class_mode,\n",
        "    batch_size=1\n",
        ")"
      ],
      "execution_count": 4,
      "outputs": [
        {
          "output_type": "stream",
          "text": [
            "Found 5216 images belonging to 2 classes.\n",
            "Found 16 images belonging to 2 classes.\n",
            "Found 624 images belonging to 2 classes.\n"
          ],
          "name": "stdout"
        }
      ]
    },
    {
      "cell_type": "code",
      "metadata": {
        "id": "midT-j0H-yvs",
        "colab_type": "code",
        "colab": {
          "base_uri": "https://localhost:8080/",
          "height": 204
        },
        "outputId": "6f552d9d-fde3-42d7-8dae-11087446babe"
      },
      "source": [
        "!wget --no-check-certificate \\\n",
        "    https://storage.googleapis.com/mledu-datasets/inception_v3_weights_tf_dim_ordering_tf_kernels_notop.h5 \\\n",
        "    -O /tmp/inception_v3_weights_tf_dim_ordering_tf_kernels_notop.h5"
      ],
      "execution_count": 5,
      "outputs": [
        {
          "output_type": "stream",
          "text": [
            "--2019-09-19 19:57:58--  https://storage.googleapis.com/mledu-datasets/inception_v3_weights_tf_dim_ordering_tf_kernels_notop.h5\n",
            "Resolving storage.googleapis.com (storage.googleapis.com)... 64.233.189.128, 2404:6800:4008:c00::80\n",
            "Connecting to storage.googleapis.com (storage.googleapis.com)|64.233.189.128|:443... connected.\n",
            "HTTP request sent, awaiting response... 200 OK\n",
            "Length: 87910968 (84M) [application/x-hdf]\n",
            "Saving to: ‘/tmp/inception_v3_weights_tf_dim_ordering_tf_kernels_notop.h5’\n",
            "\n",
            "/tmp/inception_v3_w 100%[===================>]  83.84M  69.4MB/s    in 1.2s    \n",
            "\n",
            "2019-09-19 19:58:00 (69.4 MB/s) - ‘/tmp/inception_v3_weights_tf_dim_ordering_tf_kernels_notop.h5’ saved [87910968/87910968]\n",
            "\n"
          ],
          "name": "stdout"
        }
      ]
    },
    {
      "cell_type": "code",
      "metadata": {
        "id": "06CZlvhV-2Ob",
        "colab_type": "code",
        "colab": {
          "base_uri": "https://localhost:8080/",
          "height": 88
        },
        "outputId": "4fb1bade-47ce-4681-c84b-8f8f2ee8a70a"
      },
      "source": [
        "from tensorflow.keras.applications.inception_v3 import InceptionV3\n",
        "\n",
        "local_weights_file = '/tmp/inception_v3_weights_tf_dim_ordering_tf_kernels_notop.h5'\n",
        "pre_trained_model = InceptionV3(\n",
        "    input_shape=(150, 150, 3), include_top=False, weights=None)\n",
        "pre_trained_model.load_weights(local_weights_file)"
      ],
      "execution_count": 6,
      "outputs": [
        {
          "output_type": "stream",
          "text": [
            "WARNING:tensorflow:From /usr/local/lib/python3.6/dist-packages/tensorflow/python/ops/init_ops.py:1251: calling VarianceScaling.__init__ (from tensorflow.python.ops.init_ops) with dtype is deprecated and will be removed in a future version.\n",
            "Instructions for updating:\n",
            "Call initializer instance with the dtype argument instead of passing it to the constructor\n"
          ],
          "name": "stdout"
        }
      ]
    },
    {
      "cell_type": "code",
      "metadata": {
        "id": "cjEt-rJL-4gj",
        "colab_type": "code",
        "colab": {}
      },
      "source": [
        "for layer in pre_trained_model.layers:\n",
        "  layer.trainable = False"
      ],
      "execution_count": 0,
      "outputs": []
    },
    {
      "cell_type": "code",
      "metadata": {
        "id": "hhcm82Pg-6WW",
        "colab_type": "code",
        "colab": {
          "base_uri": "https://localhost:8080/",
          "height": 34
        },
        "outputId": "5f263d86-e7da-4508-e1b4-ac86360bf000"
      },
      "source": [
        "last_layer = pre_trained_model.get_layer('mixed7')\n",
        "print('last layer output shape:', last_layer.output_shape)\n",
        "last_output = last_layer.output"
      ],
      "execution_count": 8,
      "outputs": [
        {
          "output_type": "stream",
          "text": [
            "last layer output shape: (None, 7, 7, 768)\n"
          ],
          "name": "stdout"
        }
      ]
    },
    {
      "cell_type": "code",
      "metadata": {
        "id": "NNDOsOjr-83r",
        "colab_type": "code",
        "colab": {}
      },
      "source": [
        "x = pre_trained_model.output\n",
        "x = layers.GlobalAveragePooling2D()(x)\n",
        "x = layers.Dense(1024, activation='relu')(x)\n",
        "x = layers.BatchNormalization()(x)\n",
        "predictions = layers.Dense(2, activation='softmax')(x)\n",
        "\n",
        "for layer in pre_trained_model.layers:\n",
        "  layer.trainable = False\n",
        "\n",
        "# Configure and compile the model\n",
        "model = Model(pre_trained_model.input, predictions)\n",
        "model.compile(loss='binary_crossentropy',\n",
        "              optimizer=RMSprop(lr=0.0001),\n",
        "              metrics=['acc'])"
      ],
      "execution_count": 0,
      "outputs": []
    },
    {
      "cell_type": "code",
      "metadata": {
        "id": "hqwKQQWm__W7",
        "colab_type": "code",
        "colab": {
          "base_uri": "https://localhost:8080/",
          "height": 156
        },
        "outputId": "e39901bb-3b98-44df-aea5-ecc9ebecd96b"
      },
      "source": [
        "history = model.fit_generator(\n",
        "      train_generator,\n",
        "      steps_per_epoch=100,\n",
        "      epochs=2,\n",
        "      validation_data=validation_generator,\n",
        "      validation_steps=50,\n",
        "      verbose=2)"
      ],
      "execution_count": 10,
      "outputs": [
        {
          "output_type": "stream",
          "text": [
            "Epoch 1/2\n",
            "WARNING:tensorflow:From /usr/local/lib/python3.6/dist-packages/tensorflow/python/ops/math_grad.py:1250: add_dispatch_support.<locals>.wrapper (from tensorflow.python.ops.array_ops) is deprecated and will be removed in a future version.\n",
            "Instructions for updating:\n",
            "Use tf.where in 2.0, which has the same broadcast rule as np.where\n",
            "100/100 - 101s - loss: 0.5258 - acc: 0.7861 - val_loss: 3.4311 - val_acc: 0.5000\n",
            "Epoch 2/2\n",
            "100/100 - 97s - loss: 0.4029 - acc: 0.8335 - val_loss: 1.0573 - val_acc: 0.7500\n"
          ],
          "name": "stdout"
        }
      ]
    },
    {
      "cell_type": "code",
      "metadata": {
        "id": "7X9HM4kRFQRD",
        "colab_type": "code",
        "colab": {
          "base_uri": "https://localhost:8080/",
          "height": 289
        },
        "outputId": "39f49ef2-010f-4b4e-b7d7-9d482ffa70d1"
      },
      "source": [
        "for f in sorted(Path(\"/tmp/chest_xray/val/\").glob(\"**/*.jpeg\")):\n",
        "    image_to_test = image.load_img(\n",
        "        str(f),\n",
        "        target_size=(150, 150)\n",
        "    )\n",
        "    image_to_test = image.img_to_array(image_to_test)\n",
        "    image_to_test /= 255\n",
        "    list_of_images = np.expand_dims(\n",
        "        image_to_test,\n",
        "        axis=0\n",
        "    )\n",
        "    results = model.predict(list_of_images)\n",
        "\n",
        "    image_likelihood = results[0][0]\n",
        "\n",
        "    if image_likelihood > 0.4:\n",
        "        print(f\"{f} predict normal ({image_likelihood:.2f})\")\n",
        "    else:\n",
        "        print(f\"{f} predict infected ({image_likelihood:.2f})\")"
      ],
      "execution_count": 11,
      "outputs": [
        {
          "output_type": "stream",
          "text": [
            "/tmp/chest_xray/val/NORMAL/NORMAL2-IM-1427-0001.jpeg predict normal (0.99)\n",
            "/tmp/chest_xray/val/NORMAL/NORMAL2-IM-1430-0001.jpeg predict normal (1.00)\n",
            "/tmp/chest_xray/val/NORMAL/NORMAL2-IM-1431-0001.jpeg predict normal (1.00)\n",
            "/tmp/chest_xray/val/NORMAL/NORMAL2-IM-1436-0001.jpeg predict normal (1.00)\n",
            "/tmp/chest_xray/val/NORMAL/NORMAL2-IM-1437-0001.jpeg predict normal (1.00)\n",
            "/tmp/chest_xray/val/NORMAL/NORMAL2-IM-1438-0001.jpeg predict normal (0.92)\n",
            "/tmp/chest_xray/val/NORMAL/NORMAL2-IM-1440-0001.jpeg predict normal (0.76)\n",
            "/tmp/chest_xray/val/NORMAL/NORMAL2-IM-1442-0001.jpeg predict normal (1.00)\n",
            "/tmp/chest_xray/val/PNEUMONIA/person1946_bacteria_4874.jpeg predict normal (0.61)\n",
            "/tmp/chest_xray/val/PNEUMONIA/person1946_bacteria_4875.jpeg predict normal (0.41)\n",
            "/tmp/chest_xray/val/PNEUMONIA/person1947_bacteria_4876.jpeg predict infected (0.19)\n",
            "/tmp/chest_xray/val/PNEUMONIA/person1949_bacteria_4880.jpeg predict infected (0.29)\n",
            "/tmp/chest_xray/val/PNEUMONIA/person1950_bacteria_4881.jpeg predict infected (0.03)\n",
            "/tmp/chest_xray/val/PNEUMONIA/person1951_bacteria_4882.jpeg predict normal (0.64)\n",
            "/tmp/chest_xray/val/PNEUMONIA/person1952_bacteria_4883.jpeg predict normal (1.00)\n",
            "/tmp/chest_xray/val/PNEUMONIA/person1954_bacteria_4886.jpeg predict normal (1.00)\n"
          ],
          "name": "stdout"
        }
      ]
    }
  ]
}